{
 "cells": [
  {
   "cell_type": "markdown",
   "id": "rubber-shirt",
   "metadata": {},
   "source": [
    "## Curso de POO y Algoritmos en Python"
   ]
  },
  {
   "cell_type": "markdown",
   "id": "surprised-simon",
   "metadata": {},
   "source": [
    "### Andrés Camilo Núñez Garzón"
   ]
  },
  {
   "cell_type": "markdown",
   "id": "ideal-fifth",
   "metadata": {},
   "source": [
    "# ![green_divider](https://user-images.githubusercontent.com/7065401/52071924-c003ad80-2562-11e9-8297-1c6595f8a7ff.png)"
   ]
  },
  {
   "cell_type": "markdown",
   "id": "headed-division",
   "metadata": {},
   "source": [
    "# Decomposición"
   ]
  },
  {
   "cell_type": "markdown",
   "id": "native-challenge",
   "metadata": {},
   "source": [
    "- Dividir los problemas en problemas más pequeños\n",
    "- Las clases permiten crear mayores abstracciones en forma de componentes\n",
    "- Cada clase se encarga de una parte del problema y así el software se hace más fácil de mantener"
   ]
  },
  {
   "cell_type": "markdown",
   "id": "fundamental-plastic",
   "metadata": {},
   "source": [
    "Muchos objetos del mundo real y su representación en software y algoritmos pueden descomponerse en diferentes partes y debemos especificar las relaciones entre estos, por ejemplo continuando con el handbook anterior, la decomposición de un Avión sería algo así:"
   ]
  },
  {
   "cell_type": "code",
   "execution_count": 2,
   "id": "substantial-weekly",
   "metadata": {},
   "outputs": [],
   "source": [
    "class Avion:\n",
    "    def __init__(self, modelo, capacidad, aerolinea, tipo):\n",
    "        self.modelo = modelo,\n",
    "        self.capacidad = capacidad\n",
    "        self.aerolinea = aerolinea\n",
    "        self.tipo = tipo\n",
    "        self._pilotos = Pilotos('Eva', ['Luis', 'Alberto'])\n",
    "        self._motor = Motor('turbina')\n",
    "        self._destino = 'LAX'\n",
    "    \n",
    "    def despegar(self, tipo_despegue = 'rapido'):\n",
    "        if despegue == 'rapido':\n",
    "            self._motor.aumentar_velocidad(450)\n",
    "        elif despegue == 'lento':\n",
    "            self._motor.aumentar_velocidad(350)\n",
    "        else:\n",
    "            pass\n",
    "\n",
    "class Motor:\n",
    "    def __init__(self, tipo, combustible='octano'):\n",
    "        self.tipo = tipo\n",
    "        self.combustible = combustible\n",
    "    \n",
    "    def aumentar_velocidad(self, velocidad):\n",
    "        pass\n",
    "\n",
    "class Pilotos:\n",
    "    def __init__(self, capitan, *copilotos):\n",
    "        self.capitan = capitan\n",
    "        self.copilotos = copilotos"
   ]
  },
  {
   "cell_type": "markdown",
   "id": "checked-input",
   "metadata": {},
   "source": [
    "De esta manera decomponemos un ```Avion``` en su ```Motor``` ```Pilotos```, consta de métodos independientes, dividos en clases, atributos públicos y atributos privados. Este es el poder de la decomposición. "
   ]
  },
  {
   "cell_type": "markdown",
   "id": "oriental-cliff",
   "metadata": {},
   "source": [
    "# Abstracción"
   ]
  },
  {
   "cell_type": "markdown",
   "id": "paperback-amsterdam",
   "metadata": {},
   "source": [
    "- Enforcarnos en la información relevante\n",
    "- Separar la información central de los detalles secundarios\n",
    "- Se pueden usar variables y métodos (privados y públicos)"
   ]
  },
  {
   "cell_type": "markdown",
   "id": "published-appraisal",
   "metadata": {},
   "source": [
    "Un ejemplo de abstracción es:"
   ]
  },
  {
   "cell_type": "code",
   "execution_count": 8,
   "id": "italian-benefit",
   "metadata": {},
   "outputs": [
    {
     "name": "stdout",
     "output_type": "stream",
     "text": [
      "verificando bateria\n",
      "Emitiendo sonido y enviando mensaje a la app\n",
      "Desplanzando...\n",
      "Inicio de aspirado y barrido\n",
      "Evitando obstaculos...\n",
      "Desplanzando...\n",
      "Inicio de aspirado y barrido\n",
      "Evitando obstaculos...\n",
      "Desplanzando...\n",
      "Inicio de aspirado y barrido\n",
      "Evitando obstaculos...\n",
      "Regresando para recargar batería\n",
      "Aspirado completo!\n"
     ]
    }
   ],
   "source": [
    "class AspiradoraRobot:\n",
    "    def __init__(self):\n",
    "        pass\n",
    "    \n",
    "    def aspirar(self, tiempo_barrido=2):\n",
    "        self._tiempo_ejecucion = 0\n",
    "        self._verificar_bateria()\n",
    "        self._notificar_inicio()\n",
    "        while self._tiempo_ejecucion <= tiempo_barrido:\n",
    "            self._desplazarse()\n",
    "            self._activar_escobillas()\n",
    "            self._esquivar_obstaculos()\n",
    "            self._tiempo_ejecucion += 1\n",
    "        self._ir_a_estacion_carga()\n",
    "        self._notificar_final()\n",
    "        \n",
    "    def _verificar_bateria(self):\n",
    "        print('verificando bateria')\n",
    "        \n",
    "    def _notificar_inicio(self):\n",
    "        print('Emitiendo sonido y enviando mensaje a la app')\n",
    "        \n",
    "    def _desplazarse(self):\n",
    "        print('Desplanzando...')\n",
    "    \n",
    "    def _activar_escobillas(self):\n",
    "        print('Inicio de aspirado y barrido')\n",
    "        \n",
    "    def _esquivar_obstaculos(self):\n",
    "        print('Evitando obstaculos...')\n",
    "        \n",
    "    def _ir_a_estacion_carga(self):\n",
    "        print('Regresando para recargar batería')\n",
    "        \n",
    "    def _notificar_final(self):\n",
    "        print('Aspirado completo!')\n",
    "\n",
    "if __name__ == '__main__':\n",
    "    robot_a = AspiradoraRobot()\n",
    "    robot_a.aspirar()\n",
    "        "
   ]
  },
  {
   "cell_type": "markdown",
   "id": "interested-reggae",
   "metadata": {},
   "source": [
    "## Decoradores"
   ]
  },
  {
   "cell_type": "markdown",
   "id": "fatty-mitchell",
   "metadata": {},
   "source": [
    "Un decorador es una función que toma como parámetro otra función y extienden su funcionalidad, un decorador devuelve una función. Los decoradores, también llamados funciones de orden mayor, son de nivel intermedio en cuanto al manejo del lenguaje."
   ]
  },
  {
   "cell_type": "markdown",
   "id": "amber-practitioner",
   "metadata": {},
   "source": [
    "**Objetos de primera clase**: son aquellos que pueden ser parámetros de funciones, _algunos_ objetos de primera clase son:\n",
    "- Strings\n",
    "- Listas\n",
    "- Diccionarios\n",
    "- Funciones"
   ]
  },
  {
   "cell_type": "code",
   "execution_count": 11,
   "id": "meaningful-comedy",
   "metadata": {},
   "outputs": [],
   "source": [
    "def presentarse(nombre):\n",
    "    return f'Mi nombre es: {nombre}'\n",
    "\n",
    "def ir_por_cafe(nombre):\n",
    "    return f'Vamos a tomar un café {nombre}'\n",
    "\n",
    "def recibe_funciones(funcion_interna):\n",
    "    return funcion_interna('Juan')"
   ]
  },
  {
   "cell_type": "code",
   "execution_count": 12,
   "id": "mounted-fiction",
   "metadata": {
    "scrolled": true
   },
   "outputs": [
    {
     "name": "stdout",
     "output_type": "stream",
     "text": [
      "Mi nombre es: Maria\n"
     ]
    }
   ],
   "source": [
    "print(presentarse('Maria'))"
   ]
  },
  {
   "cell_type": "code",
   "execution_count": 13,
   "id": "major-player",
   "metadata": {},
   "outputs": [
    {
     "name": "stdout",
     "output_type": "stream",
     "text": [
      "Vamos a tomar un café Carlos\n"
     ]
    }
   ],
   "source": [
    "print(ir_por_cafe('Carlos'))"
   ]
  },
  {
   "cell_type": "code",
   "execution_count": 15,
   "id": "rapid-childhood",
   "metadata": {},
   "outputs": [
    {
     "data": {
      "text/plain": [
       "'Mi nombre es: Juan'"
      ]
     },
     "execution_count": 15,
     "metadata": {},
     "output_type": "execute_result"
    }
   ],
   "source": [
    "recibe_funciones(presentarse)"
   ]
  },
  {
   "cell_type": "code",
   "execution_count": 14,
   "id": "secure-prophet",
   "metadata": {},
   "outputs": [
    {
     "data": {
      "text/plain": [
       "'Vamos a tomar un café Juan'"
      ]
     },
     "execution_count": 14,
     "metadata": {},
     "output_type": "execute_result"
    }
   ],
   "source": [
    "recibe_funciones(ir_por_cafe)"
   ]
  },
  {
   "cell_type": "markdown",
   "id": "ready-heading",
   "metadata": {},
   "source": [
    "La siguiente es la conveción más utilizada para aplicar decoradores a una función, con la sintaxis de ```@```."
   ]
  },
  {
   "cell_type": "code",
   "execution_count": 49,
   "id": "historic-contractor",
   "metadata": {},
   "outputs": [],
   "source": [
    "def funcion_decoradora(funcion_parametro):\n",
    "    def funcion_interna():\n",
    "        \n",
    "        print('Inicio de operacion')\n",
    "        \n",
    "        funcion_parametro()\n",
    "        \n",
    "        print('Finaliza operacion')\n",
    "\n",
    "    return funcion_interna"
   ]
  },
  {
   "cell_type": "code",
   "execution_count": 50,
   "id": "operating-advisory",
   "metadata": {},
   "outputs": [],
   "source": [
    "@funcion_decoradora\n",
    "def suma():\n",
    "    print(2 + 2)\n",
    "\n",
    "@funcion_decoradora\n",
    "def resta():\n",
    "    print(4 - 2)\n",
    "\n"
   ]
  },
  {
   "cell_type": "code",
   "execution_count": 51,
   "id": "scheduled-forest",
   "metadata": {
    "scrolled": true
   },
   "outputs": [
    {
     "name": "stdout",
     "output_type": "stream",
     "text": [
      "Inicio de operacion\n",
      "4\n",
      "Finaliza operacion\n"
     ]
    }
   ],
   "source": [
    "suma()"
   ]
  },
  {
   "cell_type": "code",
   "execution_count": 52,
   "id": "steady-certificate",
   "metadata": {},
   "outputs": [
    {
     "name": "stdout",
     "output_type": "stream",
     "text": [
      "Inicio de operacion\n",
      "2\n",
      "Finaliza operacion\n"
     ]
    }
   ],
   "source": [
    "resta()"
   ]
  },
  {
   "cell_type": "markdown",
   "id": "sustained-chest",
   "metadata": {},
   "source": [
    "## Encapsulación"
   ]
  },
  {
   "cell_type": "markdown",
   "id": "backed-aging",
   "metadata": {},
   "source": [
    "- Permite agrupar datos y su comportamiento\n",
    "- Controla el acceso a dichos datos\n",
    "- Previene modificaciones no autorizadas"
   ]
  },
  {
   "cell_type": "markdown",
   "id": "recorded-reservation",
   "metadata": {},
   "source": [
    "## Setters, getters y decorador property"
   ]
  },
  {
   "cell_type": "markdown",
   "id": "unlimited-wrist",
   "metadata": {},
   "source": [
    "Python no tiene forma de distinguir entre atributos públicos y privados, esto es peligroso ya que permite que otras clases modifiquen los parámetros. Existe una conveción para definir los atributos protegidos y los privados.\n",
    "- Protegido: ```_distancia```\n",
    "- Privado: ```__distancia```\n",
    "\n",
    "Para hacer esto explicito se usa la función ```property()``` que tiene como parámetros opcionales ```fget```, ```fset```, ```fdel``` y ```doc```; usados respectivamente para obtener el valor de un atributo, cambiarlo, eliminarlo y documentarlo, respectivamente."
   ]
  },
  {
   "cell_type": "code",
   "execution_count": 60,
   "id": "cathedral-method",
   "metadata": {
    "scrolled": true
   },
   "outputs": [
    {
     "name": "stdout",
     "output_type": "stream",
     "text": [
      "Llamada al método setter\n",
      "Llamada al método getter\n",
      "200\n",
      "Llamada al método deleter\n"
     ]
    }
   ],
   "source": [
    "class Millas:\n",
    "    def __init__(self):\n",
    "        self._distancia = 0\n",
    "\n",
    "    def obtener_distancia(self):\n",
    "        print(\"Llamada al método getter\")\n",
    "        return self._distancia\n",
    "\n",
    "    def definir_distancia(self, recorrido):\n",
    "        print(\"Llamada al método setter\")\n",
    "        self._distancia = recorrido\n",
    "\n",
    "    def eliminar_distancia(self):\n",
    "        print(\"Llamada al método deleter\")\n",
    "        del self._distancia\n",
    "\n",
    "    distancia = property(obtener_distancia, definir_distancia, eliminar_distancia)\n",
    "\n",
    "avion = Millas()\n",
    "avion.distancia = 200  #setter\n",
    "print(avion.distancia) #getter\n",
    "del avion.distancia"
   ]
  },
  {
   "cell_type": "markdown",
   "id": "solar-associate",
   "metadata": {},
   "source": [
    "Con el decorador ```@property``` aplicar el principio de encapsulamiento para proteger de modificaciones a los atributos y establecer cómo deben ser modificados. Notese que en el siguiente ejemplo precio ahora es un atributo protegido ```._precio```"
   ]
  },
  {
   "cell_type": "markdown",
   "id": "tamil-kitchen",
   "metadata": {},
   "source": [
    "Con ```@precio.setter```, se está indicando que este será el método setter para la propiedad precio."
   ]
  },
  {
   "cell_type": "code",
   "execution_count": 68,
   "id": "communist-voltage",
   "metadata": {},
   "outputs": [],
   "source": [
    "class Casa():\n",
    "    def __init__(self, precio):\n",
    "        self._precio = precio\n",
    "    \n",
    "    @property\n",
    "    def precio(self):\n",
    "        print(\"Llamada al setter\")\n",
    "        return self._precio\n",
    "    \n",
    "    @precio.setter\n",
    "    def precio(self, precio_nuevo):\n",
    "        print(\"Llamada al getter\")\n",
    "        if precio_nuevo > 0 and (isinstance(precio_nuevo, float) or isinstance(precio_nuevo, int)):\n",
    "            print(\"Precio valido\")\n",
    "            self._precio = precio_nuevo\n",
    "        else:\n",
    "            print(\"Precio no valido\")\n",
    "    \n",
    "    @precio.deleter\n",
    "    def precio(self):\n",
    "        print(\"Valor del atributo eliminado\")\n",
    "        del self._precio"
   ]
  },
  {
   "cell_type": "code",
   "execution_count": 70,
   "id": "announced-database",
   "metadata": {},
   "outputs": [
    {
     "name": "stdout",
     "output_type": "stream",
     "text": [
      "Llamada al setter\n",
      "4000\n",
      "Llamada al getter\n",
      "Precio valido\n",
      "Valor del atributo eliminado\n"
     ]
    }
   ],
   "source": [
    "casa = Casa(4000)\n",
    "print(casa.precio)\n",
    "casa.precio = 3000\n",
    "del casa.precio"
   ]
  },
  {
   "cell_type": "markdown",
   "id": "bottom-mississippi",
   "metadata": {},
   "source": [
    "### Un ejemplo más de @property"
   ]
  },
  {
   "cell_type": "markdown",
   "id": "steady-wheel",
   "metadata": {},
   "source": [
    "Usamos el decorador ```@property``` sin especificar el ```deleter```. Además se especifica con el ```setter``` que el cambio de color de todas las instancias de ```Auto``` sea a uno de los que están en la lista privada ```__colores```."
   ]
  },
  {
   "cell_type": "code",
   "execution_count": 91,
   "id": "immediate-fruit",
   "metadata": {},
   "outputs": [],
   "source": [
    "class Auto:\n",
    "    def __init__(self, color):\n",
    "        self._color = color\n",
    "        self.__colores = ['amarillo', 'azul', 'rojo']\n",
    "        \n",
    "    @property\n",
    "    def color(self):\n",
    "        print(\"Llamada al getter\")\n",
    "        return self._color\n",
    "    \n",
    "    @color.setter\n",
    "    def color(self, nuevo_color):\n",
    "        \"Llamada al setter\"\n",
    "        if nuevo_color in self.__colores:\n",
    "            print(\"Color valido\")\n",
    "            self._color = nuevo_color\n",
    "        else:\n",
    "            print(\"Color no valido\")"
   ]
  },
  {
   "cell_type": "code",
   "execution_count": 92,
   "id": "acquired-forward",
   "metadata": {},
   "outputs": [],
   "source": [
    "carrito = Auto('verde')"
   ]
  },
  {
   "cell_type": "code",
   "execution_count": 93,
   "id": "overall-applicant",
   "metadata": {},
   "outputs": [
    {
     "name": "stdout",
     "output_type": "stream",
     "text": [
      "Llamada al getter\n",
      "verde\n"
     ]
    }
   ],
   "source": [
    "print(carrito.color)"
   ]
  },
  {
   "cell_type": "code",
   "execution_count": 94,
   "id": "honey-london",
   "metadata": {},
   "outputs": [
    {
     "name": "stdout",
     "output_type": "stream",
     "text": [
      "Color no valido\n"
     ]
    }
   ],
   "source": [
    "carrito.color = 'lila'"
   ]
  },
  {
   "cell_type": "code",
   "execution_count": 95,
   "id": "accessible-priest",
   "metadata": {},
   "outputs": [
    {
     "name": "stdout",
     "output_type": "stream",
     "text": [
      "Color valido\n",
      "Llamada al getter\n",
      "azul\n"
     ]
    }
   ],
   "source": [
    "carrito.color = 'azul'\n",
    "print(carrito.color)"
   ]
  },
  {
   "cell_type": "markdown",
   "id": "manufactured-modern",
   "metadata": {},
   "source": [
    "Una ventaja de usar ```@property``` es que al aplicar la encapsulación, sólo es necesario afectar el código de la clase y no cada una de las llamadas que se hacen a sus atributos con setters y getters. No es necesario que sean definidas las tres propiedades (getter, setter y deleter) a un atributo, puede ser sólo el getter o el getter y el setter."
   ]
  },
  {
   "cell_type": "markdown",
   "id": "framed-cutting",
   "metadata": {},
   "source": [
    "## Herencia"
   ]
  },
  {
   "cell_type": "markdown",
   "id": "adjustable-irrigation",
   "metadata": {},
   "source": [
    "- Permite modelar una jerarquía de clases\n",
    "- Permite compartir comportamiento común en la jerarquía\n",
    "- Al padre se le conoce como súperclase y al hijo como subclase\n",
    "\n",
    "Un aspecto adicional pero no menos importante es que la herencia permite reutilizar código por lo que es uno de los pilares de la POO."
   ]
  },
  {
   "cell_type": "code",
   "execution_count": 5,
   "id": "hundred-level",
   "metadata": {},
   "outputs": [],
   "source": [
    "class Rectangulo:\n",
    "    def __init__(self, base, altura):\n",
    "        self.base = base\n",
    "        self.altura = altura\n",
    "    \n",
    "    def area(self):\n",
    "        return self.base * self.altura\n",
    "\n",
    "class Cuadrado(Rectangulo):\n",
    "    def __init__(self, lado):\n",
    "        super().__init__(lado, lado)"
   ]
  },
  {
   "cell_type": "code",
   "execution_count": 7,
   "id": "present-telephone",
   "metadata": {},
   "outputs": [
    {
     "name": "stdout",
     "output_type": "stream",
     "text": [
      "El area de rectangulo es: 6\n",
      "El area de cuadrado es: 16\n"
     ]
    }
   ],
   "source": [
    "rectangulo = Rectangulo(base = 3, altura = 2)\n",
    "print(f'El area de rectangulo es: {rectangulo.area()}')\n",
    "cuadrado = Cuadrado(lado = 4)\n",
    "print(f'El area de cuadrado es: {cuadrado.area()}')"
   ]
  },
  {
   "cell_type": "markdown",
   "id": "thorough-optimum",
   "metadata": {},
   "source": [
    "Nunca se definió un método para calcular el área en la clase ```Cuadrado```, pero fue heredado de la clase ```Rectangulo```, por lo que accedimos a éste compartiendo comportamientos entre subclases y súperclases."
   ]
  },
  {
   "cell_type": "markdown",
   "id": "fallen-jerusalem",
   "metadata": {},
   "source": [
    "El método ```super()``` obtiene una referencia directa de la superclase, referencia todos los atributos y métodos de la clase padre."
   ]
  },
  {
   "cell_type": "markdown",
   "id": "southwest-number",
   "metadata": {},
   "source": [
    "Un ejemplo adicional de herencia es el siguiente, donde una clase padre ```Animal``` es el inicio de la jerarquía y tiene atributos y métodos comunes para todos los animales:"
   ]
  },
  {
   "cell_type": "code",
   "execution_count": 21,
   "id": "recreational-venice",
   "metadata": {},
   "outputs": [],
   "source": [
    "class Animal:\n",
    "    def __init__(self, vertebrado, alimentacion, onomatopeya):\n",
    "        self.vertebrado = vertebrado\n",
    "        self.alimentacion = alimentacion\n",
    "        self.onomatopeya = onomatopeya\n",
    "    \n",
    "    def hacer_sonido(self):\n",
    "        print((self.onomatopeya + ' ') * 3)\n",
    "        \n",
    "    def alimentarse(self):\n",
    "        if self.alimentacion == 'carnivoro':\n",
    "            print('Como carne')\n",
    "        elif self.alimentacion == 'omnivoro':\n",
    "            print('Como casi cualquier cosa')\n",
    "\n",
    "class Perro(Animal):\n",
    "    def __init__(self):\n",
    "        super().__init__(True, 'carnivoro', 'Guau')\n",
    "\n",
    "class Mosca(Animal):\n",
    "    def __init__(self):\n",
    "        super().__init__(False, 'omnivoro', 'Bzzz')"
   ]
  },
  {
   "cell_type": "code",
   "execution_count": 22,
   "id": "manual-breathing",
   "metadata": {},
   "outputs": [
    {
     "name": "stdout",
     "output_type": "stream",
     "text": [
      "Guau Guau Guau \n",
      "Como carne\n"
     ]
    }
   ],
   "source": [
    "lucas = Perro()\n",
    "lucas.hacer_sonido()\n",
    "lucas.alimentarse()"
   ]
  },
  {
   "cell_type": "code",
   "execution_count": 23,
   "id": "dense-flooring",
   "metadata": {
    "scrolled": true
   },
   "outputs": [
    {
     "name": "stdout",
     "output_type": "stream",
     "text": [
      "Bzzz Bzzz Bzzz \n",
      "Como casi cualquier cosa\n"
     ]
    }
   ],
   "source": [
    "mosquita = Mosca()\n",
    "mosquita.hacer_sonido()\n",
    "mosquita.alimentarse()"
   ]
  },
  {
   "cell_type": "markdown",
   "id": "direct-board",
   "metadata": {},
   "source": [
    "Ni el método ```hacer_sonido()``` ni ```alimentarse()``` son definidos en las clases hijo, reutilizando código gracias a la herencia y abstracción."
   ]
  },
  {
   "cell_type": "markdown",
   "id": "homeless-adult",
   "metadata": {},
   "source": [
    "## Polimorfismo"
   ]
  },
  {
   "cell_type": "markdown",
   "id": "flush-throw",
   "metadata": {},
   "source": [
    "Se modifica el comportamiento de la clase superior (madre) para especializarlo en la subclase"
   ]
  }
 ],
 "metadata": {
  "kernelspec": {
   "display_name": "Python 3",
   "language": "python",
   "name": "python3"
  },
  "language_info": {
   "codemirror_mode": {
    "name": "ipython",
    "version": 3
   },
   "file_extension": ".py",
   "mimetype": "text/x-python",
   "name": "python",
   "nbconvert_exporter": "python",
   "pygments_lexer": "ipython3",
   "version": "3.9.5"
  }
 },
 "nbformat": 4,
 "nbformat_minor": 5
}
