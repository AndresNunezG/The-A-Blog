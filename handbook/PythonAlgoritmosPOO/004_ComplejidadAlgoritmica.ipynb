{
 "cells": [
  {
   "cell_type": "markdown",
   "id": "criminal-sherman",
   "metadata": {},
   "source": [
    "## Curso de POO y Algoritmos en Python"
   ]
  },
  {
   "cell_type": "markdown",
   "id": "respected-reconstruction",
   "metadata": {},
   "source": [
    "### Andrés Camilo Núñez Garzón"
   ]
  },
  {
   "cell_type": "markdown",
   "id": "developing-rebound",
   "metadata": {},
   "source": [
    "# ![green_divider](https://user-images.githubusercontent.com/7065401/52071924-c003ad80-2562-11e9-8297-1c6595f8a7ff.png)"
   ]
  },
  {
   "cell_type": "markdown",
   "id": "sufficient-rhythm",
   "metadata": {},
   "source": [
    "## Complejidad algorítmica"
   ]
  },
  {
   "cell_type": "markdown",
   "id": "novel-motion",
   "metadata": {},
   "source": [
    "### Introducción"
   ]
  },
  {
   "cell_type": "markdown",
   "id": "reserved-commercial",
   "metadata": {},
   "source": [
    "- ¿Por qué se compara la eficiencia de un algoritmo? Principalmente para saber la cantidad de recursos a ser consumidos para resolver un problema, por ejemplo cuánto tiempo tomará filtrar un dataset con muchos registros.\n",
    "- Complejidad temporal vs. complejidad espacial. En el ejemplo anterior se tomó como ejemplo cuanto tiempo tardará un proceso, pero también se analiza la cantidad de memoria requerida para hacer el proceso.\n",
    "- La definición O(n) / T(n). Es la función que indica o clasifica el algoritmo, n representa el tamaño de la entrada y la salida de esta función es tiempo que requerirá o la capacidad de memoria necesaria."
   ]
  },
  {
   "cell_type": "markdown",
   "id": "intimate-intention",
   "metadata": {},
   "source": [
    "### Aproximaciones"
   ]
  },
  {
   "cell_type": "markdown",
   "id": "closing-mixture",
   "metadata": {},
   "source": [
    "- Cronometrar el tiempo en que corre un algortimo\n",
    "- Contar los pasos con una medida abstracta de operación\n",
    "- Contar los pasos conforme nos aproximamos al infinito"
   ]
  }
 ],
 "metadata": {
  "kernelspec": {
   "display_name": "Python 3",
   "language": "python",
   "name": "python3"
  },
  "language_info": {
   "codemirror_mode": {
    "name": "ipython",
    "version": 3
   },
   "file_extension": ".py",
   "mimetype": "text/x-python",
   "name": "python",
   "nbconvert_exporter": "python",
   "pygments_lexer": "ipython3",
   "version": "3.9.5"
  }
 },
 "nbformat": 4,
 "nbformat_minor": 5
}
