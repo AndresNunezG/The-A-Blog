{
 "cells": [
  {
   "cell_type": "markdown",
   "id": "signal-craft",
   "metadata": {},
   "source": [
    "## Curso de POO y Algoritmos en Python"
   ]
  },
  {
   "cell_type": "markdown",
   "id": "studied-belly",
   "metadata": {},
   "source": [
    "### Andrés Camilo Núñez Garzón"
   ]
  },
  {
   "cell_type": "markdown",
   "id": "distant-vienna",
   "metadata": {},
   "source": [
    "# ![green_divider](https://user-images.githubusercontent.com/7065401/52071924-c003ad80-2562-11e9-8297-1c6595f8a7ff.png)"
   ]
  },
  {
   "cell_type": "markdown",
   "id": "formed-crossing",
   "metadata": {},
   "source": [
    "## Complejidad algorítmica"
   ]
  },
  {
   "cell_type": "markdown",
   "id": "middle-soldier",
   "metadata": {},
   "source": [
    "### Introducción"
   ]
  },
  {
   "cell_type": "markdown",
   "id": "silver-scholarship",
   "metadata": {},
   "source": [
    "- ¿Por qué se compara la eficiencia de un algoritmo? Principalmente para saber la cantidad de recursos a ser consumidos para resolver un problema, por ejemplo cuánto tiempo tomará filtrar un dataset con muchos registros.\n",
    "- Complejidad temporal vs. complejidad espacial. En el ejemplo anterior se tomó como ejemplo cuanto tiempo tardará un proceso, pero también se analiza la cantidad de memoria requerida para hacer el proceso.\n",
    "- La definición O(n) / T(n). Es la función que indica o clasifica el algoritmo, n representa el tamaño de la entrada y la salida de esta función es tiempo que requerirá o la capacidad de memoria necesaria."
   ]
  },
  {
   "cell_type": "markdown",
   "id": "boxed-money",
   "metadata": {},
   "source": [
    "### Aproximaciones"
   ]
  },
  {
   "cell_type": "markdown",
   "id": "similar-speaking",
   "metadata": {},
   "source": [
    "- Cronometrar el tiempo en que corre un algortimo\n",
    "- Contar los pasos con una medida abstracta de operación\n",
    "- Contar los pasos conforme nos aproximamos al infinito"
   ]
  },
  {
   "cell_type": "markdown",
   "id": "helpful-guidance",
   "metadata": {},
   "source": [
    "## Let's code"
   ]
  },
  {
   "cell_type": "markdown",
   "id": "novel-scout",
   "metadata": {},
   "source": [
    "En ese ejemplo se evaluará la complejidad algorítimica de dos programas que calculan el factorial de un número ```n```. Por ejemplo el factorial de 4 tiene la notación 4! y su resultado es 4x3x2x1 = 24"
   ]
  },
  {
   "cell_type": "markdown",
   "id": "above-wealth",
   "metadata": {},
   "source": [
    "#### Implementación en bucle"
   ]
  },
  {
   "cell_type": "code",
   "execution_count": 1,
   "id": "terminal-punishment",
   "metadata": {},
   "outputs": [],
   "source": [
    "def factorial_loop(n):\n",
    "    res = 1\n",
    "    \n",
    "    while n > 1:\n",
    "        res *= n\n",
    "        n -= 1\n",
    "    \n",
    "    return n"
   ]
  },
  {
   "cell_type": "markdown",
   "id": "ranging-audio",
   "metadata": {},
   "source": [
    "#### Implementación recursiva"
   ]
  },
  {
   "cell_type": "code",
   "execution_count": 2,
   "id": "leading-redhead",
   "metadata": {},
   "outputs": [],
   "source": [
    "def factorial_rsve(n): \n",
    "    if n == 1:\n",
    "        return 1\n",
    "    \n",
    "    return n * factorial_rsve(n-1)"
   ]
  },
  {
   "cell_type": "markdown",
   "id": "signed-liechtenstein",
   "metadata": {},
   "source": [
    "### Medición de los algortimos"
   ]
  },
  {
   "cell_type": "markdown",
   "id": "difficult-account",
   "metadata": {},
   "source": [
    "Mediante la librería ```time``` y el método ```perf_counter()``` se va medir el tiempo que tarda cada algoritmo en hallar el tiempo de proceso para hallar el factorial de un número ```n```."
   ]
  },
  {
   "cell_type": "code",
   "execution_count": 3,
   "id": "editorial-compensation",
   "metadata": {},
   "outputs": [
    {
     "name": "stdout",
     "output_type": "stream",
     "text": [
      "Tamanio de la entrada: 150000\n",
      "algoritmo bucle: 9.139034581\n",
      "algoritmo recursivo: 8.494947768000001\n",
      "Tamanio de la entrada: 160000\n",
      "algoritmo bucle: 9.692967848000002\n",
      "algoritmo recursivo: 9.734634464000003\n",
      "Tamanio de la entrada: 170000\n",
      "algoritmo bucle: 10.965541234999996\n",
      "algoritmo recursivo: 10.972350879999993\n",
      "Tamanio de la entrada: 180000\n",
      "algoritmo bucle: 12.439581649000004\n",
      "algoritmo recursivo: 12.348866744000006\n",
      "Tamanio de la entrada: 190000\n",
      "algoritmo bucle: 13.820533338000004\n",
      "algoritmo recursivo: 13.826963324000005\n",
      "Tamanio de la entrada: 200000\n",
      "algoritmo bucle: 15.42572204599999\n",
      "algoritmo recursivo: 15.34822190700001\n"
     ]
    }
   ],
   "source": [
    "import time\n",
    "\n",
    "for n in range (150000, 210000, 10000):\n",
    "    \n",
    "    print('Tamanio de la entrada:', n)\n",
    "\n",
    "    inicio = time.perf_counter()\n",
    "    factorial_loop(n)\n",
    "    final = time.perf_counter()\n",
    "    tiempo_ejec = final - inicio\n",
    "    print(f'algoritmo bucle: {tiempo_ejec}')\n",
    "\n",
    "    inicio = time.perf_counter()\n",
    "    factorial_loop(n)\n",
    "    final = time.perf_counter()\n",
    "    tiempo_ejec = final - inicio\n",
    "    print(f'algoritmo recursivo: {tiempo_ejec}')"
   ]
  },
  {
   "cell_type": "markdown",
   "id": "formal-subcommittee",
   "metadata": {},
   "source": [
    "### Crecimiento asintótico"
   ]
  },
  {
   "cell_type": "markdown",
   "id": "historical-stability",
   "metadata": {},
   "source": [
    "- Se desprecian las variaciones de menor magnitud, se centra en los términos de mayor aporte, específicamente el de mayor relevancia.\n",
    "- El enfoque se centra en lo que pasa conforme la entrada al algoritmo se acerca al infinito"
   ]
  },
  {
   "cell_type": "markdown",
   "id": "opposite-ensemble",
   "metadata": {},
   "source": [
    "### Notación asintótica BigO O(n)"
   ]
  },
  {
   "cell_type": "markdown",
   "id": "internal-struggle",
   "metadata": {},
   "source": [
    "En análisis de algoritmos, una cota superior asintótica (BigO) es una función que sirve de cota superior de otra función cuando el argumento tiende a infinito."
   ]
  },
  {
   "cell_type": "markdown",
   "id": "obvious-revelation",
   "metadata": {},
   "source": [
    "**Ley de la suma**: O(n) + O(n) = O(n + n) = O(2n) = O(n), esta es la propiedad de la suma, que indica que nos algoritmos lineles, al sumarlos, se tendrá un algoritmo final resultante también lineal, sin importar el coeficiente ya que igualmente tendrá un crecimiento asintótico lineal."
   ]
  },
  {
   "cell_type": "code",
   "execution_count": 4,
   "id": "classified-screening",
   "metadata": {},
   "outputs": [],
   "source": [
    "def f(n):\n",
    "    \n",
    "    for i in range(n): #O(n)\n",
    "        print(i)\n",
    "        \n",
    "    for i in range(n): # O(n)\n",
    "        print(i)"
   ]
  },
  {
   "cell_type": "markdown",
   "id": "conceptual-daughter",
   "metadata": {},
   "source": [
    "O(n) + O(n^2) = O(n + n^2) = O(n^2), tal como se abordó arriba,la notación que describe el algoritmo está dara por el término más significativo cuando la entrada tiende a infinito, n^2 en este caso."
   ]
  },
  {
   "cell_type": "code",
   "execution_count": 5,
   "id": "known-currency",
   "metadata": {},
   "outputs": [],
   "source": [
    "def f(n):\n",
    "    \n",
    "    for i in range(n): #O(n)\n",
    "        print(i)\n",
    "    \n",
    "    for i in range (n * n): #O(n^2)\n",
    "        print(i)"
   ]
  },
  {
   "cell_type": "markdown",
   "id": "anticipated-charlotte",
   "metadata": {},
   "source": [
    "**Ley de la multiplicación**: O(n) * O(n) = O(n*n) = O(n^2), en este script se ve como hay dos loops, donde cada uno de loops tiene una notación O(n), directamente proporcional al tamaño de n, pero están están anidados, por lo que cada bucle de A, ejecutará n bucles de B y A se ejecutará n veces, esto hace que sea de notación Big(O)."
   ]
  },
  {
   "cell_type": "code",
   "execution_count": 6,
   "id": "killing-spouse",
   "metadata": {
    "scrolled": true
   },
   "outputs": [
    {
     "name": "stdout",
     "output_type": "stream",
     "text": [
      "1 1\n",
      "1 2\n",
      "1 3\n",
      "2 1\n",
      "2 2\n",
      "2 3\n",
      "3 1\n",
      "3 2\n",
      "3 3\n"
     ]
    }
   ],
   "source": [
    "def f(n):\n",
    "    \n",
    "    for i in range(1, n + 1): #A - O(n)\n",
    "        for j in range(1, n + 1): #B - O(n)\n",
    "            print(i, j)\n",
    "\n",
    "f(3)"
   ]
  },
  {
   "cell_type": "markdown",
   "id": "lined-collaboration",
   "metadata": {},
   "source": [
    "**Recursividad múltiple**: O(2^n), se llaman dos funciones o algoritmos lineales por cada n de entrada, que a su vez llaman a otras dos funciones."
   ]
  },
  {
   "cell_type": "code",
   "execution_count": 7,
   "id": "quantitative-milton",
   "metadata": {},
   "outputs": [],
   "source": [
    "def fibonacci(n):\n",
    "    if n == 0 or n == 1:\n",
    "        return 1\n",
    "    return fibonacci(n - 1) + fibonacci(n - 2)"
   ]
  },
  {
   "cell_type": "code",
   "execution_count": 8,
   "id": "behavioral-courage",
   "metadata": {
    "scrolled": true
   },
   "outputs": [
    {
     "name": "stdout",
     "output_type": "stream",
     "text": [
      "233\n"
     ]
    }
   ],
   "source": [
    "print(fibonacci(12))"
   ]
  },
  {
   "cell_type": "markdown",
   "id": "potential-rainbow",
   "metadata": {},
   "source": [
    "### Clases de complejidad algorítmica"
   ]
  },
  {
   "cell_type": "markdown",
   "id": "resistant-hobby",
   "metadata": {},
   "source": [
    "- O(1): Constante sin importar el tamaño de la entrada\n",
    "- O(n): Lineal, crecimiento directamente proporcional al tamaño de la entrada\n",
    "- O(log n): Logarítmica, a pequeñas entradas crece rápidamente, pero se mantiene casi constante a medida que la entrada se hace más grande.\n",
    "- O(nlog n): Logarítmica lineal, crecimiento logarítmico pero con un término lineal significativo\n",
    "- O(n ** 2): Polinomial\n",
    "- O(2 ** n) Exponencial"
   ]
  }
 ],
 "metadata": {
  "kernelspec": {
   "display_name": "Python 3",
   "language": "python",
   "name": "python3"
  },
  "language_info": {
   "codemirror_mode": {
    "name": "ipython",
    "version": 3
   },
   "file_extension": ".py",
   "mimetype": "text/x-python",
   "name": "python",
   "nbconvert_exporter": "python",
   "pygments_lexer": "ipython3",
   "version": "3.9.5"
  }
 },
 "nbformat": 4,
 "nbformat_minor": 5
}
