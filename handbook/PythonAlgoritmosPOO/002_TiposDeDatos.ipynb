{
 "cells": [
  {
   "cell_type": "markdown",
   "id": "adjusted-parker",
   "metadata": {},
   "source": [
    "## Curso de POO y Algoritmos en Python"
   ]
  },
  {
   "cell_type": "markdown",
   "id": "yellow-restaurant",
   "metadata": {},
   "source": [
    "### Andrés Camilo Núñez Garzón"
   ]
  },
  {
   "cell_type": "markdown",
   "id": "blank-columbus",
   "metadata": {},
   "source": [
    "# ![green_divider](https://user-images.githubusercontent.com/7065401/52071924-c003ad80-2562-11e9-8297-1c6595f8a7ff.png)"
   ]
  },
  {
   "cell_type": "markdown",
   "id": "congressional-mailman",
   "metadata": {},
   "source": [
    "## Tipos de datos y objetos abstractos"
   ]
  },
  {
   "cell_type": "markdown",
   "id": "engaged-juice",
   "metadata": {},
   "source": [
    "En el caso de Python, todo es un objeto (strings, enteros y estructuras más completas como listas y diccionarios, es decir cada objeto tiene un tipo) y hay una manera preestablecida de manipular y de interactuar con estos objetos (ordenar los elementos de un array, obtener las llaves de un diccionario, hacer que un string esté en mayúsculas, entre otros). "
   ]
  },
  {
   "cell_type": "markdown",
   "id": "verbal-paste",
   "metadata": {},
   "source": [
    "Los tipos de datos abstractos son aquellos que creamos y plasman, también, objetos con sus comportamientos y relaciones."
   ]
  },
  {
   "cell_type": "markdown",
   "id": "colored-neighbor",
   "metadata": {},
   "source": [
    "Las tres formas básicas de interactuar con un objeto son:\n",
    "- Creación\n",
    "- Manipulación\n",
    "- Destrucción"
   ]
  },
  {
   "cell_type": "markdown",
   "id": "remarkable-ghana",
   "metadata": {},
   "source": [
    "En algunos lenguajes de programación es necesario especificar la destrucción de un objeto, en Python, el garbage collector se encarga de esto cuando no se hacen más referencias al objeto, liberando así espacio en memoria de manera automática. Es posible hacerlo explicito si así con la keyword ```del``` lo deseamos de la siguiente manera:"
   ]
  },
  {
   "cell_type": "code",
   "execution_count": 1,
   "id": "alien-pressing",
   "metadata": {},
   "outputs": [],
   "source": [
    "numero_a = int()\n",
    "del numero_a"
   ]
  },
  {
   "cell_type": "markdown",
   "id": "bacterial-likelihood",
   "metadata": {},
   "source": [
    "### Ventajas de los tipos de datos abstractos"
   ]
  },
  {
   "cell_type": "markdown",
   "id": "integrated-fundamentals",
   "metadata": {},
   "source": [
    "- Decomposición: definir tipos de datos más elementales, atomizando casi al nivel deseado. Por ejemplo dividir avión definiendo sus asientos, los elementos de la cabina, el fuselaje, etc.\n",
    "- Abstracción: hace que no sea necesario conocer el proceso completo, aislando el objeto de los procedimientos necesarios y centrandose en qué hará\n",
    "- Encapsulamiento: Se especificará más adelante, al igual que profundizando en los conceptos anteriores."
   ]
  },
  {
   "cell_type": "markdown",
   "id": "contemporary-writer",
   "metadata": {},
   "source": [
    "### Instancias"
   ]
  },
  {
   "cell_type": "markdown",
   "id": "departmental-oregon",
   "metadata": {},
   "source": [
    "Como menciona el handbook anterior, los objetos de una clase también reciben el nombre de instancias, se pueden crear cuantas instancias se deseen de una misma clase."
   ]
  },
  {
   "cell_type": "markdown",
   "id": "younger-silver",
   "metadata": {},
   "source": [
    "El constructor se define en las clases y mediante ```def __init__(self)```,  y se accede a los métodos y atributos mediante la dot notation (.)"
   ]
  },
  {
   "cell_type": "markdown",
   "id": "falling-firmware",
   "metadata": {},
   "source": [
    "### Atributos privados"
   ]
  },
  {
   "cell_type": "markdown",
   "id": "surprised-prophet",
   "metadata": {},
   "source": [
    "En Python los atributos privados se definen mediante un under ```_``` previo al nombre de la variable, esto en contraste a otros lenguajes de programación donde se usa ```private```"
   ]
  },
  {
   "cell_type": "markdown",
   "id": "convenient-command",
   "metadata": {},
   "source": [
    "## Let's code"
   ]
  },
  {
   "cell_type": "markdown",
   "id": "proprietary-charge",
   "metadata": {},
   "source": [
    "Creamos la clase ```Coordenada```, donde se define para cada instancia los dos puntos ```x``` e ```y``` del plano cartesiano. Esta clase tiene el método ```distanci( )``` que recibe como parámetro otra instancia de la clase coordenada para calcular la distancia entre puntos."
   ]
  },
  {
   "cell_type": "code",
   "execution_count": 2,
   "id": "arbitrary-stroke",
   "metadata": {},
   "outputs": [],
   "source": [
    "class Coordenada():\n",
    "    def __init__(self, x, y):\n",
    "        self.x = x\n",
    "        self.y = y\n",
    "        \n",
    "    def distancia(self, coordenada_b):\n",
    "        x_diff = (coordenada_b.x - self.x) ** 2\n",
    "        y_diff = (coordenada_b.y - self.y) ** 2\n",
    "        distancia_a_b = (x_diff + y_diff) ** 0.5\n",
    "        print(f'La distancia entre ({self.x},{self.y}) y ({coordenada_b.x},{coordenada_b.y}) es {distancia_a_b}')"
   ]
  },
  {
   "cell_type": "markdown",
   "id": "outside-diversity",
   "metadata": {},
   "source": [
    "Creamos las coordenadas a y b"
   ]
  },
  {
   "cell_type": "code",
   "execution_count": 3,
   "id": "dress-roller",
   "metadata": {},
   "outputs": [],
   "source": [
    "coordenada_a = Coordenada(4, -5)\n",
    "coordenada_b = Coordenada(-2.4, 3)"
   ]
  },
  {
   "cell_type": "markdown",
   "id": "black-generic",
   "metadata": {},
   "source": [
    "Probando el método distancia..."
   ]
  },
  {
   "cell_type": "code",
   "execution_count": 4,
   "id": "confident-martial",
   "metadata": {
    "scrolled": true
   },
   "outputs": [
    {
     "name": "stdout",
     "output_type": "stream",
     "text": [
      "La distancia entre (4,-5) y (-2.4,3) es 10.244998779892558\n"
     ]
    }
   ],
   "source": [
    "coordenada_a.distancia(coordenada_b)"
   ]
  },
  {
   "cell_type": "markdown",
   "id": "sensitive-upper",
   "metadata": {},
   "source": [
    "### isinstance"
   ]
  },
  {
   "cell_type": "markdown",
   "id": "clear-formation",
   "metadata": {},
   "source": [
    "Esta es una función built-in de Python que recibe como parámetro un obtjo y una clase y devuelve True o False, dependiendo si el objeto dado es una instancia de la clase dada."
   ]
  },
  {
   "cell_type": "code",
   "execution_count": 5,
   "id": "copyrighted-final",
   "metadata": {},
   "outputs": [
    {
     "name": "stdout",
     "output_type": "stream",
     "text": [
      "True\n"
     ]
    }
   ],
   "source": [
    "print(isinstance(coordenada_a, Coordenada))"
   ]
  },
  {
   "cell_type": "code",
   "execution_count": 6,
   "id": "opposed-alert",
   "metadata": {},
   "outputs": [
    {
     "name": "stdout",
     "output_type": "stream",
     "text": [
      "False\n"
     ]
    }
   ],
   "source": [
    "print(isinstance([1, 3, 'manzana'], int))"
   ]
  }
 ],
 "metadata": {
  "kernelspec": {
   "display_name": "Python 3",
   "language": "python",
   "name": "python3"
  },
  "language_info": {
   "codemirror_mode": {
    "name": "ipython",
    "version": 3
   },
   "file_extension": ".py",
   "mimetype": "text/x-python",
   "name": "python",
   "nbconvert_exporter": "python",
   "pygments_lexer": "ipython3",
   "version": "3.9.5"
  }
 },
 "nbformat": 4,
 "nbformat_minor": 5
}
