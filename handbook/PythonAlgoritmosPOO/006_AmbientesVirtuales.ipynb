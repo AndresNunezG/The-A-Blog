{
 "cells": [
  {
   "cell_type": "markdown",
   "id": "advanced-peripheral",
   "metadata": {},
   "source": [
    "## Curso de POO y Algoritmos en Python"
   ]
  },
  {
   "cell_type": "markdown",
   "id": "supported-selection",
   "metadata": {},
   "source": [
    "### Andrés Camilo Núñez Garzón"
   ]
  },
  {
   "cell_type": "markdown",
   "id": "pregnant-alabama",
   "metadata": {},
   "source": [
    "# ![green_divider](https://user-images.githubusercontent.com/7065401/52071924-c003ad80-2562-11e9-8297-1c6595f8a7ff.png)"
   ]
  },
  {
   "cell_type": "markdown",
   "id": "classical-cutting",
   "metadata": {},
   "source": [
    "# Ambiente virtuales"
   ]
  },
  {
   "cell_type": "markdown",
   "id": "australian-breakfast",
   "metadata": {},
   "source": [
    "Python se puede acceder de manera global en la máquina y su librería estandar cuenta con muchos de los que recursos que pueden llegar a necesitarse."
   ]
  },
  {
   "cell_type": "markdown",
   "id": "honey-brief",
   "metadata": {},
   "source": [
    "- Permiten aislar el ambiente para poder instalar y trabajar con diferentes versiones de paquetes\n",
    "- A partir de Python3, se incluye en la librería estandar el módulo ```venv```\n",
    "- Python se trabaja de manera profesional con ambientes virtuales."
   ]
  },
  {
   "cell_type": "markdown",
   "id": "oriented-prairie",
   "metadata": {},
   "source": [
    "# Pip\n",
    "### Package Installer for Python"
   ]
  },
  {
   "cell_type": "markdown",
   "id": "brown-rental",
   "metadata": {},
   "source": [
    "- Permite descargar paquetes de terceros para utilizar el programa\n",
    "- También es posible compartir los paquetes con terceros\n",
    "- Se puede especificar la vesión que se desea para cada uno de los paquetes"
   ]
  },
  {
   "cell_type": "markdown",
   "id": "formed-radiation",
   "metadata": {},
   "source": [
    "Con el siguiente zsh / bash script, se crea un directorio ```graficador```, se ingresa a éste y posteriormente se ejecuta el módulo ```venv``` de python con ```-m``` y se le da el nombre de ```myenv``` (la convención es ```env```)."
   ]
  },
  {
   "cell_type": "markdown",
   "id": "likely-wonder",
   "metadata": {},
   "source": [
    "```zsh\n",
    "mkdir graficador\n",
    "cd graficador/\n",
    "python3.7 -m venv myenv \n",
    "```"
   ]
  },
  {
   "cell_type": "markdown",
   "id": "choice-newspaper",
   "metadata": {},
   "source": [
    "Para activar el ambiente se utiliza el siguiente comando"
   ]
  },
  {
   "cell_type": "markdown",
   "id": "interested-equation",
   "metadata": {},
   "source": [
    "```zsh\n",
    "source myenv/bin/activate\n",
    "```"
   ]
  },
  {
   "cell_type": "markdown",
   "id": "painted-substance",
   "metadata": {},
   "source": [
    "A partir de este punto ya se pueden activar los paquetes deseados en el ambiente recién creado ```myenv```"
   ]
  },
  {
   "cell_type": "markdown",
   "id": "floppy-proxy",
   "metadata": {},
   "source": [
    "```zsh\n",
    "pip install bokeh\n",
    "```"
   ]
  },
  {
   "cell_type": "markdown",
   "id": "surrounded-mailman",
   "metadata": {},
   "source": [
    "Para verificar los paquetes instalados en el ambiente se usa el comando"
   ]
  },
  {
   "cell_type": "markdown",
   "id": "oriented-treatment",
   "metadata": {},
   "source": [
    "```zsh\n",
    "pip freeze\n",
    "```"
   ]
  },
  {
   "cell_type": "markdown",
   "id": "joint-shannon",
   "metadata": {},
   "source": [
    "Salir o desactivar el venv:"
   ]
  },
  {
   "cell_type": "markdown",
   "id": "natural-bahamas",
   "metadata": {},
   "source": [
    "```zsh\n",
    "deactivate\n",
    "```"
   ]
  }
 ],
 "metadata": {
  "kernelspec": {
   "display_name": "Python 3",
   "language": "python",
   "name": "python3"
  },
  "language_info": {
   "codemirror_mode": {
    "name": "ipython",
    "version": 3
   },
   "file_extension": ".py",
   "mimetype": "text/x-python",
   "name": "python",
   "nbconvert_exporter": "python",
   "pygments_lexer": "ipython3",
   "version": "3.9.5"
  }
 },
 "nbformat": 4,
 "nbformat_minor": 5
}
