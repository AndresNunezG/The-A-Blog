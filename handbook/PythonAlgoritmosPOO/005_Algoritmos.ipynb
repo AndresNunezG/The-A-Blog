{
 "cells": [
  {
   "cell_type": "markdown",
   "id": "finnish-facility",
   "metadata": {},
   "source": [
    "## Curso de POO y Algoritmos en Python"
   ]
  },
  {
   "cell_type": "markdown",
   "id": "needed-appointment",
   "metadata": {},
   "source": [
    "### Andrés Camilo Núñez Garzón"
   ]
  },
  {
   "cell_type": "markdown",
   "id": "tested-process",
   "metadata": {},
   "source": [
    "# ![green_divider](https://user-images.githubusercontent.com/7065401/52071924-c003ad80-2562-11e9-8297-1c6595f8a7ff.png)"
   ]
  },
  {
   "cell_type": "markdown",
   "id": "distinct-belize",
   "metadata": {},
   "source": [
    "# Algoritmos de búsqueda"
   ]
  },
  {
   "cell_type": "markdown",
   "id": "parallel-rainbow",
   "metadata": {},
   "source": [
    "## Búsqueda lineal"
   ]
  },
  {
   "cell_type": "markdown",
   "id": "featured-livestock",
   "metadata": {},
   "source": [
    "- Busca en todos los elementos de manera secuencial\n",
    "- Es una implementación iterativa\n",
    "- ¿Cuál es el peor caso? O(n)"
   ]
  },
  {
   "cell_type": "code",
   "execution_count": 1,
   "id": "previous-prayer",
   "metadata": {},
   "outputs": [
    {
     "name": "stdout",
     "output_type": "stream",
     "text": [
      "Lista:[9, 10, 0, 7, 0, 9, 0, 2, 8, 1, 14, 12, 8, 17, 11]\n",
      "El objetivo: 8, SI se encuentra en la lista\n"
     ]
    }
   ],
   "source": [
    "import random\n",
    "\n",
    "def busqueda_lineal(lista, objetivo):\n",
    "    encontrado = False\n",
    "    for elemento in lista:\n",
    "        if elemento == objetivo:\n",
    "            encontrado = True\n",
    "            break\n",
    "    return encontrado\n",
    "            \n",
    "tamanio_lista = 15\n",
    "objetivo = 8\n",
    "lista = [random.randint(0, 20) for i in range(tamanio_lista)]\n",
    "print('Lista:', end='')\n",
    "print(lista)\n",
    "encontrado = busqueda_lineal(lista, objetivo)\n",
    "print(f'El objetivo: {objetivo}, {\"SI\" if encontrado else \"NO\"} se encuentra en la lista')"
   ]
  },
  {
   "cell_type": "markdown",
   "id": "everyday-immigration",
   "metadata": {},
   "source": [
    "## Búsqueda binaria"
   ]
  },
  {
   "cell_type": "markdown",
   "id": "handmade-hotel",
   "metadata": {},
   "source": [
    "- Divide y conquista\n",
    "- Es una implementación recursiva\n",
    "- ¿Cuál es el peor caso?"
   ]
  },
  {
   "cell_type": "markdown",
   "id": "thick-winning",
   "metadata": {},
   "source": [
    "La siguiente es una implementación propia del algoritmo."
   ]
  },
  {
   "cell_type": "code",
   "execution_count": 2,
   "id": "incomplete-surface",
   "metadata": {},
   "outputs": [
    {
     "name": "stdout",
     "output_type": "stream",
     "text": [
      "Lista: [0, 0, 2, 2, 3, 4, 5, 6, 6, 7, 7, 10, 10, 13, 14, 14, 15, 17, 17, 18]\n",
      "El objetivo: 13, SI se encuentra en la lista\n"
     ]
    }
   ],
   "source": [
    "import random\n",
    "\n",
    "def busqueda_binaria(lista, objetivo):\n",
    "    inicio = 0\n",
    "    mitad = int()\n",
    "    final = len(lista)\n",
    "    encontrado = False\n",
    "    \n",
    "    while (mitad != final):\n",
    "        mitad = (inicio + final) // 2\n",
    "        if objetivo == lista[mitad]:\n",
    "            encontrado = True\n",
    "            break\n",
    "        elif objetivo < lista[mitad]:\n",
    "            final = mitad - 1\n",
    "        else:\n",
    "            inicio = mitad + 1\n",
    "    return encontrado\n",
    "\n",
    "tamanio_lista = 20\n",
    "objetivo = 13\n",
    "lista = sorted([random.randint(0, 20) for i in range(tamanio_lista)])\n",
    "#lista.sort() #sin sorted(...) y esta linea también funciona\n",
    "print('Lista:', lista)\n",
    "encontrado = busqueda_binaria(lista, objetivo)\n",
    "print(f'El objetivo: {objetivo}, {\"SI\" if encontrado else \"NO\"} se encuentra en la lista')"
   ]
  },
  {
   "cell_type": "markdown",
   "id": "employed-canberra",
   "metadata": {},
   "source": [
    "La siguiente implementación del algoritmo es la más común, una solución recursiva"
   ]
  },
  {
   "cell_type": "markdown",
   "id": "certified-majority",
   "metadata": {},
   "source": [
    "# Algortimos de ordenación"
   ]
  },
  {
   "cell_type": "markdown",
   "id": "asian-slope",
   "metadata": {},
   "source": [
    "## Ordenamiento de burbuja - bubble sort"
   ]
  },
  {
   "cell_type": "markdown",
   "id": "sticky-clark",
   "metadata": {},
   "source": [
    "El ordenamiento de burbuja es un algoritmo que recorre repetidamente una lista que necesita ordenarse. Compara elementos adyacentes y los intercambia si están en el orden incorrecto. Este procedimiento se repite hasta que no requieran más intercambios, lo que indica que la lista se encuentra ordenada."
   ]
  },
  {
   "cell_type": "code",
   "execution_count": 3,
   "id": "traditional-prediction",
   "metadata": {},
   "outputs": [
    {
     "name": "stdout",
     "output_type": "stream",
     "text": [
      "[5, 19, 1, 5, 1] 0 0\n",
      "[5, 19, 1, 5, 1] 0 1\n",
      "[5, 1, 19, 5, 1] 0 2\n",
      "[5, 1, 5, 19, 1] 0 3\n",
      "[5, 1, 5, 1, 19] 1 0\n",
      "[1, 5, 5, 1, 19] 1 1\n",
      "[1, 5, 5, 1, 19] 1 2\n",
      "[1, 5, 1, 5, 19] 2 0\n",
      "[1, 5, 1, 5, 19] 2 1\n",
      "[1, 1, 5, 5, 19] 3 0\n",
      "[1, 1, 5, 5, 19]\n"
     ]
    }
   ],
   "source": [
    "import random\n",
    "\n",
    "def bubble_sort(lista):\n",
    "    n = len(lista)\n",
    "    for i in range(n): #O(n)\n",
    "        for j in range(0, n - i - 1): #O(n)\n",
    "            print(lista, i, j)\n",
    "            if lista[j] > lista[j + 1]:\n",
    "                lista[j], lista[j + 1] = lista[j + 1], lista[j]\n",
    "    return lista\n",
    "\n",
    "#O(n) * O(n) = O(n^2)\n",
    "\n",
    "tamanio_lista = 5\n",
    "lista = [random.randint(0, 20) for i in range(tamanio_lista)]\n",
    "lista = bubble_sort(lista)\n",
    "print(lista)"
   ]
  },
  {
   "cell_type": "markdown",
   "id": "unique-network",
   "metadata": {},
   "source": [
    "En este algoritmo hay dos bucles anidados, cada uno uno tiene una complejidad algorítmica de O(n), que de acuerdo con la ley del producto resulta en O(n) * O(n) = O(n * n) = O(n^2). El desempeño de éste por lo tanto no es muy buena idea."
   ]
  },
  {
   "cell_type": "markdown",
   "id": "advised-burton",
   "metadata": {},
   "source": [
    "## Ordenamiento por inserción"
   ]
  },
  {
   "cell_type": "markdown",
   "id": "excellent-sampling",
   "metadata": {},
   "source": [
    "Este algoritmo funciona de la siguiente manera, se divide la lista entre una una sublista ordenada y una sublista desordenada. La sublista ordenada se crea con un sólo elemento, por defecto está entonces ordenada, después de evalúa el primer elemento de la lista desordenada para hallar cuál debe ser su posición dentro de la lista ordenada. La inserción se realiza al mover todos los elementos mayores al elemento a ser insertado, a la derecha. El algoritmo termina cuando la lista desordenada queda vacía."
   ]
  },
  {
   "cell_type": "code",
   "execution_count": 4,
   "id": "conscious-emphasis",
   "metadata": {},
   "outputs": [
    {
     "name": "stdout",
     "output_type": "stream",
     "text": [
      "[3, 0, 6, 6, 13]\n",
      "[0, 3, 6, 6, 13]\n"
     ]
    }
   ],
   "source": [
    "import random\n",
    "\n",
    "def ord_por_insercion(lista):\n",
    "    n = len(lista)\n",
    "    for i in range(1, n):\n",
    "        puntero =  i\n",
    "        valor_actual = lista[i]\n",
    "        \n",
    "        while puntero > 0 and lista[puntero - 1] > valor_actual:\n",
    "            lista[puntero] = lista[puntero - 1]\n",
    "            puntero -= 1\n",
    "    \n",
    "        lista[puntero] = valor_actual\n",
    "    return lista\n",
    "\n",
    "tamanio_lista = 5\n",
    "lista = [random.randint(0, 20) for i in range(tamanio_lista)]\n",
    "print(lista)\n",
    "lista = ord_por_insercion(lista)\n",
    "print(lista)"
   ]
  },
  {
   "cell_type": "markdown",
   "id": "three-physiology",
   "metadata": {},
   "source": [
    "## Ordenamiento por mezcla - merge sort"
   ]
  },
  {
   "cell_type": "markdown",
   "id": "subject-charity",
   "metadata": {},
   "source": [
    "El ordenamiento por mezcla, es un algoritmo de divide y conquista. Primero divide una lista en partes iguales hasta que quedan sublistas de 0 o 1 elementos. Luego las recombina en forma ordenada."
   ]
  },
  {
   "cell_type": "code",
   "execution_count": 5,
   "id": "hybrid-webmaster",
   "metadata": {},
   "outputs": [],
   "source": [
    "def merge_sort(lista):\n",
    "    if len(lista) > 1:\n",
    "        mitad = len(lista) // 2\n",
    "        l_izq = lista[:mitad]\n",
    "        l_der = lista[mitad:]\n",
    "        \n",
    "        print(l_izq, '-' * 5, l_der)\n",
    "        \n",
    "        #llamada recursiva a cada mitad\n",
    "        #considerar que tanto l_izq y l_der se pasan como referencia y no como valor\n",
    "        merge_sort(l_izq)\n",
    "        merge_sort(l_der)\n",
    "        \n",
    "        #inicializar contadores sublistas\n",
    "        i = 0 #contador sublista izquierda\n",
    "        j = 0 #contador sublista derecha\n",
    "        #inicializar contador lista ppal\n",
    "        k = 0\n",
    "        \n",
    "        #organizar lista principal\n",
    "        while i < len(l_izq) and j < len(l_der):\n",
    "            if l_izq[i] < l_der[j]:\n",
    "                lista[k] = l_izq[i]\n",
    "                i += 1\n",
    "            else:\n",
    "                lista[k] = l_der[j]\n",
    "                j += 1\n",
    "            k += 1\n",
    "        \n",
    "        #completar la lista principal\n",
    "        while i < len(l_izq):\n",
    "            lista[k] = l_izq[i]\n",
    "            i += 1\n",
    "            k += 1\n",
    "            \n",
    "        while j < len(l_der):\n",
    "            lista[k] = l_der[j]\n",
    "            j += 1\n",
    "            k += 1\n",
    "\n",
    "        print(f'Izq: {l_izq} - Der: {l_der}')\n",
    "        print(f'Lista: {lista}')\n",
    "        print('-' * 40)\n",
    "        \n",
    "    return lista"
   ]
  },
  {
   "cell_type": "code",
   "execution_count": 6,
   "id": "underlying-distance",
   "metadata": {},
   "outputs": [
    {
     "name": "stdout",
     "output_type": "stream",
     "text": [
      "[98, 1, 65, 71, 95, 25]\n",
      "[98, 1, 65] ----- [71, 95, 25]\n",
      "[98] ----- [1, 65]\n",
      "[1] ----- [65]\n",
      "Izq: [1] - Der: [65]\n",
      "Lista: [1, 65]\n",
      "----------------------------------------\n",
      "Izq: [98] - Der: [1, 65]\n",
      "Lista: [1, 65, 98]\n",
      "----------------------------------------\n",
      "[71] ----- [95, 25]\n",
      "[95] ----- [25]\n",
      "Izq: [95] - Der: [25]\n",
      "Lista: [25, 95]\n",
      "----------------------------------------\n",
      "Izq: [71] - Der: [25, 95]\n",
      "Lista: [25, 71, 95]\n",
      "----------------------------------------\n",
      "Izq: [1, 65, 98] - Der: [25, 71, 95]\n",
      "Lista: [1, 25, 65, 71, 95, 98]\n",
      "----------------------------------------\n",
      "[1, 25, 65, 71, 95, 98]\n"
     ]
    }
   ],
   "source": [
    "import random\n",
    "tamanio_lista = 6\n",
    "lista = [random.randint(0, 100) for i in range(tamanio_lista)]\n",
    "print(lista)\n",
    "lista = merge_sort(lista)\n",
    "print(lista)"
   ]
  },
  {
   "cell_type": "markdown",
   "id": "hourly-conspiracy",
   "metadata": {},
   "source": [
    "## Introducción a la optimización"
   ]
  },
  {
   "cell_type": "markdown",
   "id": "wrong-publication",
   "metadata": {},
   "source": [
    "- El concepto de optimización permite resolver muchos problemas de manera computacional\n",
    "- Una función objetivo que debe ser maximizada o minimizada\n",
    "- Serie de limitaciones y requisitos"
   ]
  }
 ],
 "metadata": {
  "kernelspec": {
   "display_name": "Python 3",
   "language": "python",
   "name": "python3"
  },
  "language_info": {
   "codemirror_mode": {
    "name": "ipython",
    "version": 3
   },
   "file_extension": ".py",
   "mimetype": "text/x-python",
   "name": "python",
   "nbconvert_exporter": "python",
   "pygments_lexer": "ipython3",
   "version": "3.9.5"
  }
 },
 "nbformat": 4,
 "nbformat_minor": 5
}
