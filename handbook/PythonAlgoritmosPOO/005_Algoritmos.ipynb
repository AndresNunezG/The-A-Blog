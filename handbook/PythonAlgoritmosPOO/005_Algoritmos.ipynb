{
 "cells": [
  {
   "cell_type": "markdown",
   "id": "finnish-facility",
   "metadata": {},
   "source": [
    "## Curso de POO y Algoritmos en Python"
   ]
  },
  {
   "cell_type": "markdown",
   "id": "needed-appointment",
   "metadata": {},
   "source": [
    "### Andrés Camilo Núñez Garzón"
   ]
  },
  {
   "cell_type": "markdown",
   "id": "tested-process",
   "metadata": {},
   "source": [
    "# ![green_divider](https://user-images.githubusercontent.com/7065401/52071924-c003ad80-2562-11e9-8297-1c6595f8a7ff.png)"
   ]
  },
  {
   "cell_type": "markdown",
   "id": "distinct-belize",
   "metadata": {},
   "source": [
    "## Algoritmos de búsqueda y ordenación"
   ]
  },
  {
   "cell_type": "markdown",
   "id": "parallel-rainbow",
   "metadata": {},
   "source": [
    "## Búsqueda lineal"
   ]
  },
  {
   "cell_type": "markdown",
   "id": "featured-livestock",
   "metadata": {},
   "source": [
    "- Busca en todos los elementos de manera secuencial\n",
    "- Es una implementación iterativa\n",
    "- ¿Cuál es el peor caso? O(n)"
   ]
  },
  {
   "cell_type": "code",
   "execution_count": 1,
   "id": "previous-prayer",
   "metadata": {},
   "outputs": [
    {
     "name": "stdout",
     "output_type": "stream",
     "text": [
      "Lista:[19, 0, 1, 15, 14, 12, 15, 3, 16, 3, 4, 4, 12, 6, 7]\n",
      "El objetivo: 8, NO se encuentra en la lista\n"
     ]
    }
   ],
   "source": [
    "import random\n",
    "\n",
    "def busqueda_lineal(lista, objetivo):\n",
    "    encontrado = False\n",
    "    for elemento in lista:\n",
    "        if elemento == objetivo:\n",
    "            encontrado = True\n",
    "            break\n",
    "    return encontrado\n",
    "            \n",
    "tamanio_lista = 15\n",
    "objetivo = 8\n",
    "lista = [random.randint(0, 20) for i in range(tamanio_lista)]\n",
    "print('Lista:', end='')\n",
    "print(lista)\n",
    "encontrado = busqueda_lineal(lista, objetivo)\n",
    "print(f'El objetivo: {objetivo}, {\"SI\" if encontrado else \"NO\"} se encuentra en la lista')"
   ]
  },
  {
   "cell_type": "markdown",
   "id": "everyday-immigration",
   "metadata": {},
   "source": [
    "## Búsqueda binaria"
   ]
  },
  {
   "cell_type": "markdown",
   "id": "handmade-hotel",
   "metadata": {},
   "source": [
    "- Divide y conquista\n",
    "- Es una implementación recursiva\n",
    "- ¿Cuál es el peor caso?"
   ]
  },
  {
   "cell_type": "markdown",
   "id": "anonymous-medicaid",
   "metadata": {},
   "source": [
    "La siguiente es una implementación propia del algoritmo."
   ]
  },
  {
   "cell_type": "code",
   "execution_count": 405,
   "id": "incomplete-surface",
   "metadata": {},
   "outputs": [
    {
     "name": "stdout",
     "output_type": "stream",
     "text": [
      "Lista: [1, 2, 2, 5, 5, 8, 8, 9, 9, 12, 12, 15, 15, 15, 16, 17, 17, 18, 19, 19]\n",
      "El objetivo: 13, NO se encuentra en la lista\n"
     ]
    }
   ],
   "source": [
    "import random\n",
    "\n",
    "def busqueda_binaria(lista, objetivo):\n",
    "    inicio = 0\n",
    "    mitad = int()\n",
    "    final = len(lista)\n",
    "    encontrado = False\n",
    "    \n",
    "    while (mitad != final):\n",
    "        mitad = (inicio + final) // 2\n",
    "        if objetivo == lista[mitad]:\n",
    "            encontrado = True\n",
    "            break\n",
    "        elif objetivo < lista[mitad]:\n",
    "            final = mitad - 1\n",
    "        else:\n",
    "            inicio = mitad + 1\n",
    "    return encontrado\n",
    "\n",
    "tamanio_lista = 20\n",
    "objetivo = 13\n",
    "lista = sorted([random.randint(0, 20) for i in range(tamanio_lista)])\n",
    "#lista.sort() #sin sorted(...) y esta linea también funciona\n",
    "print('Lista:', lista)\n",
    "encontrado = busqueda_binaria(lista, objetivo)\n",
    "print(f'El objetivo: {objetivo}, {\"SI\" if encontrado else \"NO\"} se encuentra en la lista')"
   ]
  },
  {
   "cell_type": "markdown",
   "id": "metropolitan-station",
   "metadata": {},
   "source": [
    "La siguiente implementación del algoritmo es la más común, una solución recursiva"
   ]
  }
 ],
 "metadata": {
  "kernelspec": {
   "display_name": "Python 3",
   "language": "python",
   "name": "python3"
  },
  "language_info": {
   "codemirror_mode": {
    "name": "ipython",
    "version": 3
   },
   "file_extension": ".py",
   "mimetype": "text/x-python",
   "name": "python",
   "nbconvert_exporter": "python",
   "pygments_lexer": "ipython3",
   "version": "3.9.5"
  }
 },
 "nbformat": 4,
 "nbformat_minor": 5
}
