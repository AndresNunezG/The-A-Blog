{
 "cells": [
  {
   "cell_type": "markdown",
   "id": "desperate-sigma",
   "metadata": {},
   "source": [
    "## Curso de POO y Algoritmos en Python"
   ]
  },
  {
   "cell_type": "markdown",
   "id": "exotic-milan",
   "metadata": {},
   "source": [
    "### Andrés Camilo Núñez Garzón"
   ]
  },
  {
   "cell_type": "markdown",
   "id": "floating-checklist",
   "metadata": {},
   "source": [
    "# ![green_divider](https://user-images.githubusercontent.com/7065401/52071924-c003ad80-2562-11e9-8297-1c6595f8a7ff.png)"
   ]
  },
  {
   "cell_type": "markdown",
   "id": "reduced-salem",
   "metadata": {},
   "source": [
    "## Programación orientada a objetos"
   ]
  },
  {
   "cell_type": "markdown",
   "id": "fixed-reputation",
   "metadata": {},
   "source": [
    "La programación orientada a objetos (POO) permite plasmar objetos y relaciones entre estos del mundo real a una máquina. Existen dos componentes fundamentales de la POO:\n",
    "- Clases: Las clases permiten crear nuevos tipos de información, a partir de las clases se crean objetos, instancias de una clase. De las clases provienen las estructuras, en éstas se especifican los métodos y atributos que tendrán sus instancias.\n",
    "- Objetos: Los objetos son las instancias de las clases, pueden crearse n instancias de una sola clase."
   ]
  },
  {
   "cell_type": "markdown",
   "id": "suffering-dispute",
   "metadata": {},
   "source": [
    "Para definir (crear) una clase en Python se usa la palabra reservada class"
   ]
  },
  {
   "cell_type": "code",
   "execution_count": 1,
   "id": "unknown-flower",
   "metadata": {},
   "outputs": [],
   "source": [
    "class Human():\n",
    "    pass"
   ]
  },
  {
   "cell_type": "markdown",
   "id": "harmful-alaska",
   "metadata": {},
   "source": [
    "Los objetos (instancias de una clase) se crean de la siguiente manera"
   ]
  },
  {
   "cell_type": "code",
   "execution_count": 2,
   "id": "frozen-chemistry",
   "metadata": {},
   "outputs": [],
   "source": [
    "juan = Human() "
   ]
  },
  {
   "cell_type": "markdown",
   "id": "tutorial-conducting",
   "metadata": {},
   "source": [
    "De esta manera se define que ```juan``` es un objeto de la clase ```Human```"
   ]
  },
  {
   "cell_type": "markdown",
   "id": "liable-facing",
   "metadata": {},
   "source": [
    "Para agregar atríbutos (características) a una clase, se deben agregar al constructor (```def __init__(self)```:) de una clase"
   ]
  },
  {
   "cell_type": "code",
   "execution_count": 3,
   "id": "aware-criminal",
   "metadata": {},
   "outputs": [],
   "source": [
    "class Human():\n",
    "    def __init__(self, edad, profesion, genero, padres, nacionalidad):\n",
    "        self.edad = edad\n",
    "        self.profesion = profesion\n",
    "        self.genero = genero\n",
    "        self.padres = padres\n",
    "        self.nacionalidad = nacionalidad"
   ]
  },
  {
   "cell_type": "markdown",
   "id": "coordinate-paradise",
   "metadata": {},
   "source": [
    "```self``` Es una referencia del objeto a sí mismo, uno de sus usos es poder reconocer sus atributos en todos los métodos que tenga la clase"
   ]
  },
  {
   "cell_type": "markdown",
   "id": "excessive-nightlife",
   "metadata": {},
   "source": [
    "Ahora al crear una objeto de tipo ```Human()``` será necesario entregar como parámetros los atributos requeridos"
   ]
  },
  {
   "cell_type": "code",
   "execution_count": 4,
   "id": "superb-semester",
   "metadata": {},
   "outputs": [],
   "source": [
    "juan = Human(18, 'Carpintero', 'M', ['Maria', 'Luis'], 'Atlantiano')"
   ]
  },
  {
   "cell_type": "markdown",
   "id": "pretty-calculator",
   "metadata": {},
   "source": [
    "Se pueden, o no, especificar los nombres de los atributos"
   ]
  },
  {
   "cell_type": "code",
   "execution_count": 5,
   "id": "matched-candidate",
   "metadata": {},
   "outputs": [],
   "source": [
    "juan = Human(edad=18, profesion='Carpintero', genero='M', padres=['Maria', 'Luis'], nacionalidad='Atlantiano')"
   ]
  },
  {
   "cell_type": "markdown",
   "id": "welcome-prison",
   "metadata": {},
   "source": [
    "Listo! ```juan``` ya es ```Human()```. Los humanos (y otros objetos) no tienen solo características, también comportamientos (desde ahora: métodos)"
   ]
  },
  {
   "cell_type": "code",
   "execution_count": 6,
   "id": "threaded-correspondence",
   "metadata": {},
   "outputs": [],
   "source": [
    "class Human():\n",
    "    def __init__(self, edad, profesion, genero, padres, nacionalidad):\n",
    "        self.edad = edad\n",
    "        self.profesion = profesion\n",
    "        self.genero = genero\n",
    "        self.padres = padres\n",
    "        self.nacionalidad = nacionalidad\n",
    "    \n",
    "    def cumplir_anios(self):\n",
    "        self.edad = self.edad + 1\n",
    "        print(f'Hbd!, la edad ahora es: {self.edad}')\n",
    "        \n",
    "    def emigrar(self, nueva_nacionalidad):\n",
    "        self.nacionalidad = nueva_nacionalidad\n",
    "        print(f'La nacionalidad cambió a: {self.nacionalidad}')"
   ]
  },
  {
   "cell_type": "markdown",
   "id": "single-single",
   "metadata": {},
   "source": [
    "Ahora la clase ```Human()``` tiene métodos, que se usan así:"
   ]
  },
  {
   "cell_type": "markdown",
   "id": "egyptian-thread",
   "metadata": {},
   "source": [
    "Creamos a ```juana``` como una instancia de ```Human( )```"
   ]
  },
  {
   "cell_type": "code",
   "execution_count": 7,
   "id": "digital-statistics",
   "metadata": {},
   "outputs": [],
   "source": [
    "juana = Human(18, 'artista', 'F', ['Juan', 'Abby'], 'Narniana')"
   ]
  },
  {
   "cell_type": "markdown",
   "id": "composed-christian",
   "metadata": {},
   "source": [
    "Verificamos su edad antes de que cumpla años pidiendo a ```juana``` su atributo ```edad``` accediendo mendiate <.>"
   ]
  },
  {
   "cell_type": "code",
   "execution_count": 8,
   "id": "inappropriate-windows",
   "metadata": {},
   "outputs": [
    {
     "data": {
      "text/plain": [
       "18"
      ]
     },
     "execution_count": 8,
     "metadata": {},
     "output_type": "execute_result"
    }
   ],
   "source": [
    "juana.edad"
   ]
  },
  {
   "cell_type": "markdown",
   "id": "palestinian-still",
   "metadata": {},
   "source": [
    "Ahora con el método ```cumplir_anios()```, ```juana``` tendrá un año más"
   ]
  },
  {
   "cell_type": "code",
   "execution_count": 9,
   "id": "following-footwear",
   "metadata": {
    "scrolled": true
   },
   "outputs": [
    {
     "name": "stdout",
     "output_type": "stream",
     "text": [
      "Hbd!, la edad ahora es: 19\n"
     ]
    }
   ],
   "source": [
    "juana.cumplir_anios()"
   ]
  },
  {
   "cell_type": "markdown",
   "id": "small-technician",
   "metadata": {},
   "source": [
    "Combrando al llamar de nuevo al atributo .edad, funciona!"
   ]
  },
  {
   "cell_type": "code",
   "execution_count": 10,
   "id": "involved-partition",
   "metadata": {},
   "outputs": [
    {
     "data": {
      "text/plain": [
       "19"
      ]
     },
     "execution_count": 10,
     "metadata": {},
     "output_type": "execute_result"
    }
   ],
   "source": [
    "juana.edad"
   ]
  },
  {
   "cell_type": "markdown",
   "id": "sharing-guide",
   "metadata": {},
   "source": [
    "Ahora al emigrar, ```juana``` tendrá como nacionalidad Marciana"
   ]
  },
  {
   "cell_type": "code",
   "execution_count": 11,
   "id": "accomplished-coffee",
   "metadata": {},
   "outputs": [
    {
     "name": "stdout",
     "output_type": "stream",
     "text": [
      "La nacionalidad cambió a: Marciana\n"
     ]
    }
   ],
   "source": [
    "juana.emigrar('Marciana')"
   ]
  },
  {
   "cell_type": "markdown",
   "id": "least-cricket",
   "metadata": {},
   "source": [
    "Verificamos nuevamente el atributo"
   ]
  },
  {
   "cell_type": "code",
   "execution_count": 12,
   "id": "modular-scenario",
   "metadata": {},
   "outputs": [
    {
     "data": {
      "text/plain": [
       "'Marciana'"
      ]
     },
     "execution_count": 12,
     "metadata": {},
     "output_type": "execute_result"
    }
   ],
   "source": [
    "juana.nacionalidad"
   ]
  },
  {
   "cell_type": "markdown",
   "id": "after-fifteen",
   "metadata": {},
   "source": [
    "Puede parecer una introducción un poco compleja, pero a lo largos de estos handbook se profundizarán en estos conceptos"
   ]
  }
 ],
 "metadata": {
  "kernelspec": {
   "display_name": "Python 3",
   "language": "python",
   "name": "python3"
  },
  "language_info": {
   "codemirror_mode": {
    "name": "ipython",
    "version": 3
   },
   "file_extension": ".py",
   "mimetype": "text/x-python",
   "name": "python",
   "nbconvert_exporter": "python",
   "pygments_lexer": "ipython3",
   "version": "3.9.5"
  }
 },
 "nbformat": 4,
 "nbformat_minor": 5
}
